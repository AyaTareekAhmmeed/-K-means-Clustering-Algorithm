{
 "cells": [
  {
   "cell_type": "code",
   "execution_count": 1,
   "id": "77426faf",
   "metadata": {},
   "outputs": [],
   "source": [
    "#importing libraries\n",
    "import matplotlib.pyplot as plt\n",
    "import numpy as np"
   ]
  },
  {
   "cell_type": "code",
   "execution_count": 3,
   "id": "ab2370d3",
   "metadata": {},
   "outputs": [
    {
     "name": "stdout",
     "output_type": "stream",
     "text": [
      "Training data :\n",
      " [[0.17068025 0.11225257]\n",
      " [0.42815441 0.69200339]\n",
      " [0.88939261 0.08521124]\n",
      " [0.33925931 0.57591637]\n",
      " [0.46481737 0.06980506]\n",
      " [0.62675417 0.25505949]\n",
      " [0.63850617 0.40471989]\n",
      " [0.58147551 0.75328162]\n",
      " [0.15803188 0.14452554]\n",
      " [0.45089055 0.71867965]\n",
      " [0.52699343 0.74232219]\n",
      " [0.56184441 0.57308696]\n",
      " [0.66618632 0.35615336]\n",
      " [0.43345736 0.17648066]\n",
      " [0.48030301 0.3667968 ]\n",
      " [0.01110806 0.10297723]\n",
      " [0.71044656 0.99272459]\n",
      " [0.21347473 0.21997938]\n",
      " [0.77212758 0.01986349]\n",
      " [0.49804326 0.32579052]\n",
      " [0.55536641 0.29142493]\n",
      " [0.22584896 0.21775844]\n",
      " [0.35901747 0.2851794 ]\n",
      " [0.84840344 0.83727008]\n",
      " [0.03695472 0.99518216]\n",
      " [0.786356   0.84667429]\n",
      " [0.44321101 0.6420293 ]\n",
      " [0.45370966 0.78161802]\n",
      " [0.88252011 0.63718604]\n",
      " [0.27037194 0.30132093]\n",
      " [0.18151717 0.46671247]\n",
      " [0.49218517 0.75948008]\n",
      " [0.93431754 0.5981532 ]\n",
      " [0.9513283  0.86047989]\n",
      " [0.66974018 0.81772926]\n",
      " [0.20071192 0.8015871 ]\n",
      " [0.7475235  0.54883476]\n",
      " [0.64849463 0.76360908]\n",
      " [0.57035326 0.64426033]\n",
      " [0.61401268 0.67953001]\n",
      " [0.59970541 0.82029895]\n",
      " [0.27864136 0.79549871]\n",
      " [0.06907312 0.06094893]\n",
      " [0.11366074 0.26952827]\n",
      " [0.76033631 0.17917773]\n",
      " [0.7877071  0.92461636]\n",
      " [0.24644053 0.47676627]\n",
      " [0.3553398  0.50732795]\n",
      " [0.45723553 0.98791942]\n",
      " [0.63454489 0.87394739]\n",
      " [0.85706305 0.93161497]\n",
      " [0.58997908 0.99212215]\n",
      " [0.11853409 0.35811737]\n",
      " [0.40911832 0.00168354]\n",
      " [0.64925379 0.9024225 ]\n",
      " [0.35122557 0.0718326 ]\n",
      " [0.61096757 0.07786907]\n",
      " [0.69170381 0.58527957]\n",
      " [0.93577439 0.20481762]\n",
      " [0.14958705 0.93944348]\n",
      " [0.50720521 0.17573558]\n",
      " [0.85147662 0.21303382]\n",
      " [0.29436811 0.57062604]\n",
      " [0.8893318  0.8680297 ]\n",
      " [0.99332145 0.2080393 ]\n",
      " [0.59189008 0.17594514]\n",
      " [0.12032941 0.38156614]\n",
      " [0.18340994 0.54083041]\n",
      " [0.07569588 0.75508718]\n",
      " [0.75854442 0.73616039]\n",
      " [0.89010478 0.73508283]\n",
      " [0.97663554 0.70336637]\n",
      " [0.22557055 0.1253836 ]\n",
      " [0.07220379 0.13058316]\n",
      " [0.12517919 0.39921089]\n",
      " [0.75410306 0.43301809]\n",
      " [0.8352927  0.50823444]\n",
      " [0.56847749 0.03834824]\n",
      " [0.7407175  0.72264623]\n",
      " [0.52865465 0.50253069]\n",
      " [0.67144216 0.0899763 ]\n",
      " [0.31835541 0.31830093]\n",
      " [0.60247261 0.10323468]\n",
      " [0.57637834 0.37729655]\n",
      " [0.12620485 0.92100462]\n",
      " [0.20655116 0.31490355]\n",
      " [0.44456519 0.67622342]\n",
      " [0.503694   0.91797901]\n",
      " [0.98190802 0.05907629]\n",
      " [0.26573615 0.87032531]\n",
      " [0.1392168  0.64761534]\n",
      " [0.49851121 0.74636265]\n",
      " [0.9016555  0.83684137]\n",
      " [0.68029725 0.93672482]\n",
      " [0.55159544 0.76337138]\n",
      " [0.59521048 0.71400705]\n",
      " [0.59285451 0.3932687 ]\n",
      " [0.33724313 0.92656594]\n",
      " [0.35259365 0.63046149]\n",
      " [0.72484682 0.56495468]\n",
      " [0.47488501 0.67929169]\n",
      " [0.38923465 0.90549928]\n",
      " [0.00884928 0.76643607]\n",
      " [0.91553227 0.01368695]\n",
      " [0.42357141 0.29403481]\n",
      " [0.71642312 0.19884735]\n",
      " [0.10503782 0.42836234]\n",
      " [0.81901103 0.19971552]\n",
      " [0.66885019 0.23681046]\n",
      " [0.05696787 0.40578003]\n",
      " [0.89698883 0.15644887]\n",
      " [0.21389631 0.60355999]\n",
      " [0.79571873 0.65201826]\n",
      " [0.42698228 0.11589181]\n",
      " [0.12571255 0.35614238]\n",
      " [0.05390368 0.7846519 ]\n",
      " [0.258698   0.54473099]\n",
      " [0.42395019 0.69384273]\n",
      " [0.52592904 0.51511996]\n",
      " [0.78227755 0.62805319]\n",
      " [0.07080213 0.40483176]\n",
      " [0.10206994 0.00914551]\n",
      " [0.78595452 0.97403771]\n",
      " [0.29809656 0.77630485]\n",
      " [0.82472535 0.37339562]\n",
      " [0.85049011 0.07484359]\n",
      " [0.67314475 0.79205876]\n",
      " [0.48247989 0.5030863 ]\n",
      " [0.46557016 0.1354626 ]\n",
      " [0.94176106 0.47171966]\n",
      " [0.22058172 0.68839651]\n",
      " [0.38418647 0.48584946]\n",
      " [0.13799586 0.32053464]\n",
      " [0.10972621 0.99995713]\n",
      " [0.25010947 0.72628392]\n",
      " [0.37900802 0.63967772]\n",
      " [0.42205193 0.56746978]\n",
      " [0.66783912 0.31159611]\n",
      " [0.32239431 0.89741347]\n",
      " [0.06532173 0.5288451 ]\n",
      " [0.21629385 0.07689764]\n",
      " [0.48113055 0.21035631]\n",
      " [0.79692005 0.49424408]\n",
      " [0.22334104 0.30750025]\n",
      " [0.04214317 0.28876572]\n",
      " [0.1517661  0.97039933]\n",
      " [0.29636139 0.62677578]\n",
      " [0.68924172 0.5720353 ]\n",
      " [0.3799832  0.5363014 ]\n",
      " [0.44971017 0.07163866]\n",
      " [0.70689801 0.69374266]\n",
      " [0.88036761 0.1343078 ]\n",
      " [0.76023143 0.98438766]\n",
      " [0.73758991 0.3524085 ]\n",
      " [0.8610994  0.45852889]\n",
      " [0.73061711 0.18956665]\n",
      " [0.00642257 0.00624188]\n",
      " [0.1722656  0.39670638]\n",
      " [0.91561538 0.4066249 ]\n",
      " [0.18707018 0.06042173]\n",
      " [0.12905998 0.58156663]\n",
      " [0.22327331 0.83647247]\n",
      " [0.71839501 0.05153904]\n",
      " [0.4848474  0.4232671 ]\n",
      " [0.48835643 0.26047568]\n",
      " [0.40118432 0.69905364]\n",
      " [0.14139823 0.44233381]\n",
      " [0.33220378 0.20775252]\n",
      " [0.85411726 0.86806429]\n",
      " [0.07894373 0.84550674]\n",
      " [0.01655535 0.64520871]\n",
      " [0.477321   0.71501839]\n",
      " [0.47903648 0.08677683]\n",
      " [0.36474154 0.3856953 ]\n",
      " [0.17177138 0.80748924]\n",
      " [0.60915606 0.03267103]\n",
      " [0.38382952 0.4639294 ]\n",
      " [0.77490259 0.63647119]\n",
      " [0.27710715 0.93975046]\n",
      " [0.08144064 0.34575951]\n",
      " [0.70624273 0.79690021]\n",
      " [0.00286609 0.81194342]\n",
      " [0.60256567 0.17506153]\n",
      " [0.97938579 0.36720472]\n",
      " [0.34371785 0.63215464]\n",
      " [0.87344732 0.3019876 ]\n",
      " [0.82874013 0.68685345]\n",
      " [0.92113484 0.95445933]\n",
      " [0.41986851 0.1092696 ]\n",
      " [0.63635772 0.53788872]\n",
      " [0.26418809 0.870075  ]\n",
      " [0.64829255 0.06772442]\n",
      " [0.9836154  0.46132726]\n",
      " [0.69748361 0.92640632]\n",
      " [0.21300315 0.9744245 ]\n",
      " [0.82585375 0.63623673]\n",
      " [0.97190145 0.07752863]\n",
      " [0.01968232 0.6659626 ]\n",
      " [0.37377422 0.82517559]\n",
      " [0.39458995 0.7758837 ]]\n"
     ]
    }
   ],
   "source": [
    "#bulding random data\n",
    "trainingdata = np.random.rand(200,2)\n",
    "\n",
    "X = np.array(trainingdata)\n",
    "print('Training data :\\n', trainingdata)"
   ]
  },
  {
   "cell_type": "code",
   "execution_count": 6,
   "id": "40f5d821",
   "metadata": {},
   "outputs": [
    {
     "name": "stdout",
     "output_type": "stream",
     "text": [
      "labels of K means are :\n",
      " [6 1 0 1 3 3 2 5 6 1 1 1 2 3 3 6 5 6 0 3 3 6 3 5 4 5 1 1 2 7 7 1 2 5 5 4 2\n",
      " 5 1 5 5 4 6 7 0 5 7 1 5 5 5 5 7 3 5 3 3 2 0 4 3 0 1 5 0 3 7 7 4 5 5 2 6 6\n",
      " 7 2 2 3 5 1 0 7 3 3 4 7 1 5 0 4 4 1 5 5 5 5 3 4 1 2 1 4 4 0 3 0 7 0 3 7 0\n",
      " 1 2 3 7 4 1 1 1 2 7 6 5 4 2 0 5 1 3 2 4 1 7 4 4 1 1 3 4 7 6 3 2 7 7 4 1 2\n",
      " 1 3 5 0 5 2 2 0 6 7 2 6 7 4 0 1 3 1 7 3 5 4 4 1 3 7 4 3 1 2 4 7 5 4 3 2 1\n",
      " 0 2 5 3 2 4 3 2 5 4 2 0 4 4 1]\n",
      "accurancy :\n",
      " 3.89497856626289\n"
     ]
    }
   ],
   "source": [
    "#KMeans\n",
    "from sklearn.cluster import KMeans\n",
    "'''\n",
    "about KMeans\n",
    "sklearn.cluster.KMeans(n_clusters=8, init='k-means++’, n_init=10, max_iter=300,tol=0.0001, 3n_clusters=num of clusters i use &init='random or K_means' type of algorithm i use\n",
    "                       precompute_distances='auto’, verbose=0, random_state=None, copy_x=True, #tol= very small num السماحيه في الخطاء\n",
    "                       n_jobs=None, algorithm='auto’) #n_jobs=-1 for better accurancy\n",
    "'''\n",
    "\n",
    "#training data\n",
    "kmeans = KMeans(n_clusters=8, random_state=0)\n",
    "kmeans.fit(X)\n",
    "print('labels of K means are :\\n', kmeans.labels_) #n_clusters=8 so labels from 0 to 7\n",
    "print('accurancy :\\n', kmeans.inertia_) #showing accurancy {small value means better accurancy}"
   ]
  },
  {
   "cell_type": "code",
   "execution_count": 7,
   "id": "67f64913",
   "metadata": {},
   "outputs": [
    {
     "name": "stdout",
     "output_type": "stream",
     "text": [
      "test data is :\n",
      " [[0.6754049  0.0135628 ]\n",
      " [0.22270172 0.51679458]\n",
      " [0.41238245 0.55285904]\n",
      " [0.60330361 0.87694275]\n",
      " [0.83334676 0.44608617]\n",
      " [0.28168083 0.89776348]\n",
      " [0.36559786 0.54606381]\n",
      " [0.59036605 0.51152884]\n",
      " [0.1742432  0.47597019]\n",
      " [0.77326831 0.41415869]\n",
      " [0.50307885 0.64898855]\n",
      " [0.72612009 0.68520998]\n",
      " [0.45651787 0.89689584]\n",
      " [0.44511162 0.89242886]\n",
      " [0.42453604 0.32277877]\n",
      " [0.70065671 0.81661699]\n",
      " [0.6339075  0.79317281]\n",
      " [0.88460971 0.04750924]\n",
      " [0.31570988 0.12885849]\n",
      " [0.17074814 0.09231854]]\n"
     ]
    }
   ],
   "source": [
    "#testing data\n",
    "testdata = np.random.rand(20,2) #bulding new random data for testing\n",
    "print('test data is :\\n', testdata)"
   ]
  },
  {
   "cell_type": "code",
   "execution_count": 10,
   "id": "70897541",
   "metadata": {},
   "outputs": [
    {
     "name": "stdout",
     "output_type": "stream",
     "text": [
      "predected clustring of test data [0 7 1 5 2 4 1 1 7 2 1 5 5 4 3 5 5 0 6 6]\n"
     ]
    }
   ],
   "source": [
    "print('predected clustring of test data', kmeans.predict(np.array(testdata))) #showimg each rows of testing data belong to which cluster [0:7]"
   ]
  },
  {
   "cell_type": "code",
   "execution_count": 11,
   "id": "95225ad9",
   "metadata": {},
   "outputs": [
    {
     "name": "stdout",
     "output_type": "stream",
     "text": [
      "Centers are :\n",
      " [[0.84605295 0.1365371 ]\n",
      " [0.42086104 0.62087316]\n",
      " [0.8090176  0.52299644]\n",
      " [0.5130494  0.18337578]\n",
      " [0.18056495 0.83534504]\n",
      " [0.71881577 0.85016063]\n",
      " [0.13815399 0.10559297]\n",
      " [0.15654686 0.39217744]]\n"
     ]
    }
   ],
   "source": [
    "#centers are points it chosse to cluster data depending on it = n_clusters\n",
    "centers = kmeans.cluster_centers_\n",
    "print('Centers are :\\n',centers )"
   ]
  },
  {
   "cell_type": "code",
   "execution_count": 12,
   "id": "ed6b9f71",
   "metadata": {},
   "outputs": [
    {
     "data": {
      "text/plain": [
       "<function matplotlib.pyplot.show(close=None, block=None)>"
      ]
     },
     "execution_count": 12,
     "metadata": {},
     "output_type": "execute_result"
    },
    {
     "data": {
      "image/png": "[encoded data removed]",
      "text/plain": [
       "<Figure size 432x288 with 1 Axes>"
      ]
     },
     "metadata": {
      "needs_background": "light"
     },
     "output_type": "display_data"
    }
   ],
   "source": [
    "#plotting data\n",
    "plt.scatter(trainingdata[:,0],trainingdata[:,1] ,c ='g' , s = 8) #training data showing as points on green color \"c ='g'\" &on size = 8 \"s = 8\"\n",
    "plt.scatter(testdata[:,0],testdata[:,1] ,c ='b' , s = 25) #testing data showing as points on blue color \"c ='b'\" &on size = 25 \"s = 25\"\n",
    "\n",
    "for j in range(len(centers)): #for bloting centes i use for to show all centers from 0 to 7\n",
    "    plt.scatter(centers[j,0],centers[j,1] ,c ='r' , s = 100) #center data showing as points on red color \"c ='r'\" &on size = 100 \"s = 100\"\n",
    "\n",
    "plt.show"
   ]
  }
 ],
 "metadata": {
  "kernelspec": {
   "display_name": "Python 3",
   "language": "python",
   "name": "python3"
  },
  "language_info": {
   "codemirror_mode": {
    "name": "ipython",
    "version": 3
   },
   "file_extension": ".py",
   "mimetype": "text/x-python",
   "name": "python",
   "nbconvert_exporter": "python",
   "pygments_lexer": "ipython3",
   "version": "3.8.8"
  }
 },
 "nbformat": 4,
 "nbformat_minor": 5
}
